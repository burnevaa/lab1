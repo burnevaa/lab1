{
  "cells": [
    {
      "cell_type": "markdown",
      "metadata": {
        "id": "vC84e9kzyxPy"
      },
      "source": [
        "<h1>Импорт библиотек"
      ]
    },
    {
      "cell_type": "code",
      "execution_count": 3,
      "metadata": {
        "id": "cgKeNegmQG5S"
      },
      "outputs": [],
      "source": [
        "import numpy as np\n",
        "import matplotlib.pyplot as plt"
      ]
    },
    {
      "cell_type": "markdown",
      "metadata": {
        "id": "qFM9uVU2x4Ls"
      },
      "source": [
        "<h1>Задача 1. Дан набор из p матриц размерностью (n, n) и p векторов размерностью (n, 1), найти сумму произведений матриц на векторы. Написать тесты для кода"
      ]
    },
    {
      "cell_type": "code",
      "execution_count": null,
      "metadata": {
        "id": "IAbUvEiYyWFF"
      },
      "outputs": [],
      "source": [
        "def sum_prod(X, V):\n",
        "    '''\n",
        "    X - матрицы (n, n)\n",
        "    V - векторы (n, 1)\n",
        "    Гарантируется, что len(X) == len(V)\n",
        "    '''\n",
        "    result = sum([np.dot(X[i], V[i]) for i in range(len(X))])\n",
        "    return result\n",
        "    pass"
      ]
    },
    {
      "cell_type": "markdown",
      "metadata": {
        "id": "TKwPG4fIy2w4"
      },
      "source": [
        "<h1>Задача 2. Дана матрица M, напишите функцию, которая бинаризует матрицу по некоторому threshold (то есть, все значения большие threshold становятся равными 1, иначе 0). Напишите тесты для кода"
      ]
    },
    {
      "cell_type": "code",
      "execution_count": null,
      "metadata": {
        "id": "KQDNMgsjRNH7"
      },
      "outputs": [],
      "source": [
        "def binarize(M, threshold=0.5):\n",
        "    binary_matrix = np.where(M > threshold, 1, 0)\n",
        "    return binary_matrix\n",
        "\n",
        "def test():\n",
        "    threshold = 0.5\n",
        "    M = np.array([[0.2, 0.7, 0.8], [0.4, 0.9, 0.1]])\n",
        "\n",
        "    expected_result = np.array([[0, 1, 1], [0, 1, 0]])\n",
        "    assert np.allclose(binarize(M, threshold), expected_result)\n",
        "\n",
        "    M2 = np.array([[1.2, 0.3], [0.6, 0.8]])\n",
        "\n",
        "    expected_result = np.array([[1, 0], [1, 1]])\n",
        "    assert np.allclose(binarize(M2, threshold), expected_result)\n",
        "\n",
        "    print(\"All tests pass\")\n",
        "\n",
        "test()"
      ]
    },
    {
      "cell_type": "markdown",
      "metadata": {
        "id": "IY5L-h-7zWhN"
      },
      "source": [
        "<h1>Задача 3. Напишите функцию, которая возвращает уникальные элементы из каждой строки матрицы. Напишите такую же функцию, но для столбцов. Напишите тесты для кода"
      ]
    },
    {
      "cell_type": "code",
      "execution_count": null,
      "metadata": {
        "id": "-8dEZhR0SBC-"
      },
      "outputs": [],
      "source": [
        "def unique_rows(mat):\n",
        "    return [list(set(row)) for row in mat]\n",
        "\n",
        "def unique_columns(mat):\n",
        "    return [list(set(col)) for col in zip(*mat)]\n",
        "\n",
        "def test():\n",
        "    mat = [\n",
        "        [1, 2, 3, 1],\n",
        "        [3, 4, 5, 5],\n",
        "        [5, 6, 7, 6],\n",
        "        [5, 2, 5, 6]\n",
        "    ]\n",
        "\n",
        "    assert unique_rows(mat) == [[1, 2, 3], [3, 4, 5], [5, 6, 7], [2, 5, 6]]\n",
        "    assert unique_columns(mat) == [[1, 3, 5], [2, 4, 6], [3, 5, 7], [1, 5, 6]]\n",
        "    print(\"All tests pass\")\n",
        "\n",
        "test()"
      ]
    },
    {
      "cell_type": "markdown",
      "metadata": {
        "id": "roYAlo4Jz-lH"
      },
      "source": [
        "<h1>Задача 4. Напишите функцию, которая заполняет матрицу с размерами $(m, n)$ случайными числами, распределенными по нормальному закону. Затем считает мат. ожидание и дисперсию для каждого из столбцов и строк, а также строит для каждой строки и столбца гистограмму значений (использовать функцию hist из модуля matplotlib.plot)"
      ]
    },
    {
      "cell_type": "code",
      "execution_count": null,
      "metadata": {
        "id": "nZK_71hMSQzv"
      },
      "outputs": [],
      "source": [
        "def fillMatrix(m, n):\n",
        "    matrix = np.random.randn(m, n)\n",
        "\n",
        "    for i in range(m):\n",
        "        row = matrix[i]\n",
        "        mean = np.mean(row)\n",
        "        variance = np.var(row)\n",
        "\n",
        "        plt.hist(row, bins=10, alpha=0.5)\n",
        "        plt.title(f\"Row {i + 1} Mean: {mean}, Variance: {variance}\")\n",
        "        plt.show()\n",
        "\n",
        "    for j in range(n):\n",
        "        col = matrix[:, j]\n",
        "        mean = np.mean(col)\n",
        "        variance = np.var(col)\n",
        "\n",
        "        plt.hist(col, bins=10, alpha=0.5)\n",
        "        plt.title(f\"Column {j + 1} Mean: {mean}, Variance: {variance}\")\n",
        "        plt.show()\n",
        "\n",
        "fillMatrix(3, 3)"
      ]
    },
    {
      "cell_type": "markdown",
      "metadata": {
        "id": "BDyATNdM0dJ2"
      },
      "source": [
        "<h1>Задача 5. Напишите функцию, которая заполняет матрицу $(m, n)$ в шахматном порядке заданными числами $a$ и $b$. Напишите тесты для кода"
      ]
    },
    {
      "cell_type": "code",
      "execution_count": null,
      "metadata": {
        "id": "RWNJYWQGecS6"
      },
      "outputs": [],
      "source": [
        "def chess(m, n, a, b):\n",
        "    matrix = [[0 for _ in range(n)] for _ in range(m)]\n",
        "    for i in range(m):\n",
        "        for j in range(n):\n",
        "            if (i + j) % 2 == 0:\n",
        "                matrix[i][j] = a\n",
        "            else:\n",
        "                matrix[i][j] = b\n",
        "    return matrix\n",
        "\n",
        "def test_chess():\n",
        "    assert chess(2, 2, 0, 1) == [[0, 1], [1, 0]]\n",
        "    assert chess(3, 3, 0, 1) == [[0, 1, 0], [1, 0, 1], [0, 1, 0]]\n",
        "    assert chess(4, 4, 6, 9) == [[6, 9, 6, 9], [9, 6, 9, 6], [6, 9, 6, 9], [9, 6, 9, 6]]\n",
        "    print(\"All tests pass\")\n",
        "\n",
        "test_chess()"
      ]
    },
    {
      "cell_type": "markdown",
      "metadata": {
        "id": "-ymXLtTN0vB6"
      },
      "source": [
        "<h1>Задача 6. Напишите функцию, которая отрисовывает прямоугольник с заданными размерами (a, b) на изображении размера (m, n), цвет фона задайте в схеме RGB, как и цвет прямоугольника. Цвета также должны быть параметрами функции. Напишите аналогичную функцию но для овала с полуосями a и b. Напишите тесты для кода.\n",
        "Примечание: уравнение эллипса (границы овала) можно записать как:\n",
        "<h1>$\\frac{(x-x_0)^2}{a^2}+\\frac{(y-y_0)^2}{b^2}=1$"
      ]
    },
    {
      "cell_type": "code",
      "execution_count": 1,
      "metadata": {
        "id": "sNfl1t_kfOF4"
      },
      "outputs": [],
      "source": [
        "def draw_rectangle(a, b, m, n, rectangle_color, background_color):\n",
        "    image = np.ones((m, n, 3)) * background_color\n",
        "    image[m-a:, n-b:] = rectangle_color\n",
        "    plt.imshow(image)\n",
        "    plt.axis(\"off\")\n",
        "    plt.show()\n",
        "\n",
        "def draw_ellipse(a, b, m, n, ellipse_color, background_color):\n",
        "    x0, y0 = m // 2, n // 2\n",
        "    image = np.ones((m, n, 3)) * background_color\n",
        "    for x in range(m):\n",
        "        for y in range(n):\n",
        "            if ((x - x0) ** 2 / a ** 2) + ((y - y0) ** 2 / b ** 2) <= 1:\n",
        "                image[x, y] = ellipse_color\n",
        "    plt.imshow(image)\n",
        "    plt.axis(\"off\")\n",
        "    plt.show()\n",
        "\n"
      ]
    },
    {
      "cell_type": "markdown",
      "metadata": {
        "id": "S82c38oz244H"
      },
      "source": [
        "<h1>Задача 7. Дан некий временной ряд. Для данного ряда нужно найти его: математическое ожидание, дисперсию, СКО, найти все локальные максимумы и минимумы (локальный максимум - это точка, которая больше своих соседних точек, а локальный минимум - это точка, которая меньше своих соседей), а также вычислить для данного ряда другой ряд, получаемый методом скользящего среднего с размером окна $p$.\n",
        "<h1>Примечание: метод скользящего среднего подразумевает нахождение среднего из подмножетсва ряда размером $p$"
      ]
    },
    {
      "cell_type": "code",
      "execution_count": null,
      "metadata": {
        "id": "Zb9mIVge5MMt"
      },
      "outputs": [],
      "source": [
        "# Your code goes here"
      ]
    },
    {
      "cell_type": "markdown",
      "metadata": {
        "id": "jPkylmOX5O9n"
      },
      "source": [
        "<h1> Задача 8. Дан некоторый вектор с целочисленными метками классов, напишите функцию, которая выполняет one-hot-encoding для данного вектора\n",
        "<h1> One-hot-encoding - представление, в котором на месте метки некоторого класса стоит 1, в остальных позициях стоит 0. Например для вектора [0, 2, 3, 0] one-hot-encoding выглядит как: [[1, 0, 0, 0], [0, 0, 1, 0], [0, 0, 0, 1], [1, 0, 0, 0]]"
      ]
    },
    {
      "cell_type": "code",
      "execution_count": null,
      "metadata": {
        "id": "Y-jlnZvw56lD"
      },
      "outputs": [],
      "source": [
        "# Your code goes here"
      ]
    }
  ],
  "metadata": {
    "colab": {
      "provenance": []
    },
    "kernelspec": {
      "display_name": "Python 3",
      "name": "python3"
    },
    "language_info": {
      "name": "python"
    }
  },
  "nbformat": 4,
  "nbformat_minor": 0
}
