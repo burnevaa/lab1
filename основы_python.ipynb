{
  "cells": [
    {
      "cell_type": "markdown",
      "metadata": {
        "id": "M-DGa20PaHnu"
      },
      "source": [
        "#Задача 1\n",
        "Написать функцию на вход которой подается строка, состоящая из латинских букв.\n",
        "Функция должна вернуть количество гласных букв (a, e, i, o, u) в этой строке. Написать тесты для кода"
      ]
    },
    {
      "cell_type": "code",
      "execution_count": null,
      "metadata": {
        "id": "XvX8X_JJ6PCb"
      },
      "outputs": [],
      "source": [
        "def countLetters(s):\n",
        "    letters = 'aeiou'\n",
        "    count = 0\n",
        "    for char in s:\n",
        "        if char.lower() in letters:\n",
        "            count += 1\n",
        "    return count\n",
        "\n",
        "def test():\n",
        "    assert countLetters(\"hello\") == 2\n",
        "    assert countLetters(\"world\") == 1\n",
        "    assert countLetters(\"aeiou\") == 5\n",
        "    assert countLetters(\"qwrtyp\") == 0\n",
        "    assert countLetters(\"hello world\") == 3\n",
        "    print(\"All tests pass\")\n",
        "\n",
        "test()"
      ]
    },
    {
      "cell_type": "markdown",
      "metadata": {
        "id": "t2ClV_Y0bbr6"
      },
      "source": [
        "# Задача 2\n",
        "Написать функцию на вход, которой подается строка. Функция должна вернуть true, если\n",
        "каждый символ в строке встречается только 1 раз, иначе должна вернуть false. Написать тесты для кода"
      ]
    },
    {
      "cell_type": "code",
      "execution_count": null,
      "metadata": {
        "id": "FppbECao6VIz"
      },
      "outputs": [],
      "source": [
        "def isUnique(s):\n",
        "    charCount = {}\n",
        "\n",
        "    for char in s:\n",
        "        if char in charCount:\n",
        "            return False\n",
        "        else:\n",
        "            charCount[char] = 1\n",
        "\n",
        "    return True\n",
        "\n",
        "def test():\n",
        "    assert isUnique(\"abcdef\") == True\n",
        "    assert isUnique(\"aabbcc\") == False\n",
        "    assert isUnique(\"hello\") == False\n",
        "    assert isUnique(\"1234567890\") == True\n",
        "    assert isUnique(\"\") == True\n",
        "    print(\"All tests pass\")\n",
        "\n",
        "test()"
      ]
    },
    {
      "cell_type": "markdown",
      "metadata": {
        "id": "udRiIK1cdt6E"
      },
      "source": [
        "# Задача 3\n",
        "Написать функцию, которая принимает положительное число и возвращает количество\n",
        "бит равных 1 в этом числе. Написать тесты для кода"
      ]
    },
    {
      "cell_type": "code",
      "execution_count": null,
      "metadata": {
        "id": "6tkfDJRz6dp_"
      },
      "outputs": [],
      "source": [
        "def countBits(num):\n",
        "    return(bin(num).count('1'))\n",
        "\n",
        "def test():\n",
        "    assert countBits(5) == 2\n",
        "    assert countBits(10) == 2\n",
        "    assert countBits(15) == 4\n",
        "    assert countBits(255) == 8\n",
        "    assert countBits(0) == 0\n",
        "    print(\"All tests pass\")\n",
        "\n",
        "test()"
      ]
    },
    {
      "cell_type": "markdown",
      "metadata": {
        "id": "26dDUz-Ae17N"
      },
      "source": [
        "# Задача 4\n",
        "Написать функцию, которая принимает положительное число. Функция должна вернуть то,\n",
        "сколько раз необходимо перемножать цифры числа или результат перемножения, чтобы\n",
        "получилось число состоящее из одной цифры.\n",
        "Например, для входного числа:\n",
        "· 39 функция должна вернуть 3, так как 3*9=27 => 2*7=14 => 1*4=4\n",
        "· 4 функция должна вернуть 0, так как число уже состоит из одной цифры\n",
        "· 999 функция должна вернуть 4, так как 9*9*9=729 => 7*2*9=126 => 1*2*6=12 =>\n",
        "1*2=2. Написать тесты для кода"
      ]
    },
    {
      "cell_type": "code",
      "execution_count": null,
      "metadata": {
        "id": "BH1A_Mgi6i4G"
      },
      "outputs": [],
      "source": [
        "def magic(n):\n",
        "    steps = 0\n",
        "    while n >= 10:\n",
        "        result = 1\n",
        "        for digit in str(n):\n",
        "            result *= int(digit)\n",
        "        n = result\n",
        "        steps += 1\n",
        "    return steps\n",
        "\n",
        "def test():\n",
        "    assert magic(39) == 3\n",
        "    assert magic(4) == 0\n",
        "    assert magic(999) == 4\n",
        "    print(\"All tests pass\")\n",
        "    \n",
        "test()"
      ]
    },
    {
      "cell_type": "markdown",
      "metadata": {
        "id": "0nS-kIa8g8vd"
      },
      "source": [
        "# Задача 5\n",
        "Написать функцию, которая принимает два целочисленных вектора одинаковой длины и\n",
        "возвращает среднеквадратическое отклонение двух векторов. Написать тесты для кода"
      ]
    },
    {
      "cell_type": "code",
      "execution_count": null,
      "metadata": {
        "id": "8iphx4LM6xbx"
      },
      "outputs": [],
      "source": [
        "import numpy as np\n",
        "\n",
        "def mse(vector1, vector2):\n",
        "    diff = np.array(vector1) - np.array(vector2)\n",
        "    mse = np.sqrt(np.mean(diff ** 2))\n",
        "    return mse\n",
        "\n",
        "def test():\n",
        "    assert mse([1, 2, 3], [4, 5, 6]) == 3.0\n",
        "    assert mse([0, 0, 0], [0, 0, 0]) == 0.0\n",
        "    assert mse([1, 1, 1], [2, 2, 2]) == 1.0\n",
        "    print(\"All tests pass\")\n",
        "\n",
        "test()"
      ]
    },
    {
      "cell_type": "markdown",
      "metadata": {
        "id": "vpIPKL439zkw"
      },
      "source": [
        "# Задача 6\n",
        "Написать функцию, принимающая целое положительное число. Функция должна вернуть\n",
        "строку вида “(n1**p1)(n2**p2)…(nk**pk)” представляющая разложение числа на простые\n",
        "множители (если pi == 1, то выводить только ni).\n",
        "Например, для числа 86240 функция должна вернуть “(2**5)(5)(7**2)(11)”. Написать тесты для кода"
      ]
    },
    {
      "cell_type": "code",
      "execution_count": null,
      "metadata": {
        "id": "pFebmcZk94Jw"
      },
      "outputs": [],
      "source": [
        "def factorize(n):\n",
        "    i = 2\n",
        "    factors = []\n",
        "    while i * i <= n:\n",
        "        if n % i != 0:\n",
        "            i += 1\n",
        "        else:\n",
        "            n //= i\n",
        "            factors.append(i)\n",
        "    if n > 1:\n",
        "        factors.append(n)\n",
        "\n",
        "    result = \"\"\n",
        "    count = 1\n",
        "    currentFactor = factors[0]\n",
        "    for factor in factors[1:]:\n",
        "        if factor == currentFactor:\n",
        "            count += 1\n",
        "        else:\n",
        "            if count == 1:\n",
        "                result += f\"({currentFactor})\"\n",
        "            else:\n",
        "                result += f\"({currentFactor}**{count})\"\n",
        "            currentFactor = factor\n",
        "            count = 1\n",
        "\n",
        "    if count == 1:\n",
        "        result += f\"({currentFactor})\"\n",
        "    else:\n",
        "        result += f\"({currentFactor}**{count})\"\n",
        "\n",
        "    return result\n",
        "\n",
        "def test():\n",
        "    assert factorize(86240) == \"(2**5)(5)(7**2)(11)\"\n",
        "    assert factorize(13) == \"(13)\"\n",
        "    assert factorize(30) == \"(2)(3)(5)\"\n",
        "    assert factorize(100) == \"(2**2)(5**2)\"\n",
        "    assert factorize(121) == \"(11**2)\"\n",
        "    print(\"All tests pass\")\n",
        "\n",
        "test()"
      ]
    },
    {
      "cell_type": "markdown",
      "metadata": {
        "id": "ps2s0BudX7A2"
      },
      "source": [
        "# Задача 7\n",
        "Написать функцию, принимающая целое число n, задающее количество кубиков. Функция\n",
        "должна определить, можно ли из данного кол-ва кубиков построить пирамиду, то есть\n",
        "можно ли представить число n как 1^2+2^2+3^2+…+k^2. Если можно, то функция должна\n",
        "вернуть k, иначе строку “It is impossible”. Написать тесты для кода"
      ]
    },
    {
      "cell_type": "code",
      "execution_count": null,
      "metadata": {
        "id": "3YPjEXxhX_YT"
      },
      "outputs": [],
      "source": [
        "def pyramid(number):\n",
        "    totalSum = 0\n",
        "    k = 1\n",
        "\n",
        "    while totalSum < number:\n",
        "        totalSum += k ** 2\n",
        "        if totalSum == number:\n",
        "            return k\n",
        "        k += 1\n",
        "\n",
        "    return \"It is impossible\"\n",
        "\n",
        "def test():\n",
        "    assert pyramid(5) == 2\n",
        "    assert pyramid(14) == 3\n",
        "    assert pyramid(30) == \"It is impossible\"\n",
        "    print(\"All tests pass\")\n",
        "\n",
        "test()"
      ]
    },
    {
      "cell_type": "markdown",
      "metadata": {
        "id": "KeKgmIdAQMEJ"
      },
      "source": [
        "# Задача 8\n",
        "Функция принимает на вход положительное число и определяет является ли оно сбалансированным, т.е. сумма цифр до средних равна сумме цифр после. Средними в случае нечетного числа цифр считать одну цифру, в случае четного - две средних. Написать тесты для кода"
      ]
    },
    {
      "cell_type": "code",
      "execution_count": null,
      "metadata": {
        "id": "gMAAqtqlQrZt"
      },
      "outputs": [],
      "source": [
        "def isBalanced(num):\n",
        "    numStr = str(num)\n",
        "    length = len(numStr)\n",
        "\n",
        "    if length <= 1:\n",
        "        return True\n",
        "\n",
        "    mid = length // 2\n",
        "    left = sum(map(int, numStr[:mid]))\n",
        "\n",
        "    if length % 2 == 0:\n",
        "        right = sum(map(int, numStr[mid:]))\n",
        "    else:\n",
        "        right = sum(map(int, numStr[mid + 1:]))\n",
        "\n",
        "    return left == right\n",
        "\n",
        "def test():\n",
        "    assert isBalanced(12321) == True\n",
        "    assert isBalanced(12345) == False\n",
        "    assert isBalanced(6666) == True\n",
        "    print(\"All tests pass\")\n",
        "\n",
        "test()"
      ]
    }
  ],
  "metadata": {
    "colab": {
      "provenance": []
    },
    "kernelspec": {
      "display_name": "Python 3",
      "name": "python3"
    },
    "language_info": {
      "name": "python"
    }
  },
  "nbformat": 4,
  "nbformat_minor": 0
}
